{
 "cells": [
  {
   "cell_type": "code",
   "execution_count": 2,
   "metadata": {},
   "outputs": [],
   "source": [
    "import pandas as pd\n",
    "from datetime import datetime, timedelta\n",
    "import numpy as np\n",
    "\n",
    "# Read the CSV file into a DataFrame\n",
    "df = pd.read_csv('datetime.csv')\n",
    "\n",
    "# Convert the datetime column to datetime format\n",
    "df['Datetime'] = pd.to_datetime(df['Datetime'])\n",
    "\n"
   ]
  },
  {
   "cell_type": "code",
   "execution_count": 16,
   "metadata": {},
   "outputs": [],
   "source": [
    "\n",
    "# change to timestamp\n",
    "df['Datetime'] = df['Datetime'].values.astype(np.float64)/10 ** 9\n",
    "\n",
    "# Calculate the relative time for each datetime value\n",
    "first_datetime = df['Datetime'].iloc[0]\n",
    "df['relative_time'] = df['Datetime'] - first_datetime\n",
    "\n",
    "# Convert relative_time to text format\n",
    "df['relative_time'] = df['relative_time'].astype(str)\n",
    "\n",
    "# change the format of relative_time to float\n",
    "\n",
    "\n",
    "\n",
    "df['relative_time'].to_csv('dist.txt', index=False, header=False)\n",
    "\n"
   ]
  },
  {
   "cell_type": "code",
   "execution_count": null,
   "metadata": {},
   "outputs": [],
   "source": [
    "# save only  relative_time < 21600\n",
    "df['relative_time'] = df['relative_time'].astype(float)\n",
    "df_6h = df[df['relative_time'] < 21600]\n",
    "df_6h['relative_time'].to_csv('AF21-6h-dist.txt', index=False, header=False)\n",
    "\n",
    "# save only  relative_time < 21600\n",
    "df_6h = df[df['relative_time'] < 24*3600]\n",
    "df_6h['relative_time'].to_csv('AF21-24h-dist.txt', index=False, header=False)"
   ]
  },
  {
   "cell_type": "code",
   "execution_count": null,
   "metadata": {},
   "outputs": [],
   "source": []
  }
 ],
 "metadata": {
  "kernelspec": {
   "display_name": "Python 3",
   "language": "python",
   "name": "python3"
  },
  "language_info": {
   "codemirror_mode": {
    "name": "ipython",
    "version": 3
   },
   "file_extension": ".py",
   "mimetype": "text/x-python",
   "name": "python",
   "nbconvert_exporter": "python",
   "pygments_lexer": "ipython3",
   "version": "3.10.6"
  },
  "orig_nbformat": 4,
  "vscode": {
   "interpreter": {
    "hash": "916dbcbb3f70747c44a77c7bcd40155683ae19c65e1c03b4aa3499c5328201f1"
   }
  }
 },
 "nbformat": 4,
 "nbformat_minor": 2
}
