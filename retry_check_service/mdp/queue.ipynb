{
 "cells": [
  {
   "cell_type": "code",
   "execution_count": 1,
   "metadata": {},
   "outputs": [
    {
     "data": {
      "text/latex": [
       "$\\displaystyle \\frac{λ \\left(\\frac{λ}{μ}\\right)^{C}}{μ \\left(1 - \\frac{λ}{C μ}\\right)^{2} \\left(- \\frac{C λ^{- C} μ^{C} \\left(\\frac{λ}{μ}\\right)^{C} e^{\\frac{λ}{μ}} \\gamma\\left(C, \\frac{λ}{μ}\\right)}{\\Gamma\\left(C + 1\\right)} + \\frac{\\left(\\frac{λ}{μ}\\right)^{C}}{\\left(1 - \\frac{λ}{C μ}\\right) C!} + e^{\\frac{λ}{μ}}\\right) C!}$"
      ],
      "text/plain": [
       "λ*(λ/μ)**C/(μ*(1 - λ/(C*μ))**2*(-C*μ**C*(λ/μ)**C*exp(λ/μ)*lowergamma(C, λ/μ)/(λ**C*gamma(C + 1)) + (λ/μ)**C/((1 - λ/(C*μ))*factorial(C)) + exp(λ/μ))*factorial(C))"
      ]
     },
     "execution_count": 1,
     "metadata": {},
     "output_type": "execute_result"
    }
   ],
   "source": [
    "from sympy import symbols, Sum, factorial, solve, Function\n",
    "\n",
    "# Define symbols\n",
    "λ, μ, C, n = symbols('λ μ C n')\n",
    "ρ = λ / (C * μ)  # Server utilization\n",
    "\n",
    "# Define P0 as a function of λ, μ, and C\n",
    "P0 = 1 / (Sum((λ / μ)**n / factorial(n), (n, 0, C - 1)) + (λ / μ)**C / (factorial(C) * (1 - ρ)))\n",
    "\n",
    "# Define Lq based on P0, λ, μ, and C\n",
    "Lq = P0 * (λ / μ)**C * (λ / μ) / (factorial(C) * (1 - ρ)**2)\n",
    "\n",
    "# Simplify Lq expression\n",
    "Lq_simplified = Lq.simplify()\n",
    "\n",
    "Lq_simplified\n"
   ]
  },
  {
   "cell_type": "code",
   "execution_count": 2,
   "metadata": {},
   "outputs": [
    {
     "name": "stdout",
     "output_type": "stream",
     "text": [
      "λ*(λ/μ)**C/(μ*(1 - λ/(C*μ))**2*(-C*μ**C*(λ/μ)**C*exp(λ/μ)*lowergamma(C, λ/μ)/(λ**C*gamma(C + 1)) + (λ/μ)**C/((1 - λ/(C*μ))*factorial(C)) + exp(λ/μ))*factorial(C))\n"
     ]
    }
   ],
   "source": [
    "print(Lq_simplified)"
   ]
  },
  {
   "cell_type": "code",
   "execution_count": null,
   "metadata": {},
   "outputs": [],
   "source": []
  }
 ],
 "metadata": {
  "kernelspec": {
   "display_name": "Python 3",
   "language": "python",
   "name": "python3"
  },
  "language_info": {
   "codemirror_mode": {
    "name": "ipython",
    "version": 3
   },
   "file_extension": ".py",
   "mimetype": "text/x-python",
   "name": "python",
   "nbconvert_exporter": "python",
   "pygments_lexer": "ipython3",
   "version": "3.10.12"
  }
 },
 "nbformat": 4,
 "nbformat_minor": 2
}
