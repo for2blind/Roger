{
 "cells": [
  {
   "cell_type": "code",
   "execution_count": 2,
   "metadata": {},
   "outputs": [
    {
     "name": "stdout",
     "output_type": "stream",
     "text": [
      "Optimal Policy: [0 0 1 0 0 0 0 1 0 0 0 1]\n",
      "Optimal Value Function: [6.3776102  6.15771968 6.15215525 6.25796375 6.27704857 6.41739394\n",
      " 6.16346683 6.38685311 6.23410736 6.39871135 6.27061703 6.19663139]\n"
     ]
    }
   ],
   "source": [
    "import numpy as np\n",
    "\n",
    "class AdjustedMDPEnvironment:\n",
    "    def __init__(self, num_states, num_actions):\n",
    "        self.num_states = num_states\n",
    "        self.num_actions = num_actions\n",
    "        self.P = np.random.rand(num_states, num_actions, num_states)\n",
    "        self.R = np.random.rand(num_states, num_actions, num_states) - 0.5  # Rewards in range [-0.5, 0.5]\n",
    "\n",
    "        # Normalize transition probabilities\n",
    "        for s in range(num_states):\n",
    "            for a in range(num_actions):\n",
    "                self.P[s, a, :] /= self.P[s, a, :].sum()\n",
    "\n",
    "def policy_evaluation(policy, env, gamma=0.99, theta=1e-5):\n",
    "    V = np.zeros(env.num_states)\n",
    "    while True:\n",
    "        delta = 0\n",
    "        for s in range(env.num_states):\n",
    "            v = V[s]\n",
    "            V[s] = sum(env.P[s, policy[s], s_prime] * (env.R[s, policy[s], s_prime] + gamma * V[s_prime])\n",
    "                       for s_prime in range(env.num_states))\n",
    "            delta = max(delta, abs(v - V[s]))\n",
    "        if delta < theta:\n",
    "            break\n",
    "    return V\n",
    "\n",
    "def policy_improvement(V, env, gamma=0.99):\n",
    "    policy = np.zeros(env.num_states, dtype=int)\n",
    "    for s in range(env.num_states):\n",
    "        action_values = [sum(env.P[s, a, s_prime] * (env.R[s, a, s_prime] + gamma * V[s_prime])\n",
    "                             for s_prime in range(env.num_states)) for a in range(env.num_actions)]\n",
    "        policy[s] = np.argmax(action_values)\n",
    "    return policy\n",
    "\n",
    "def policy_iteration(env, gamma=0.99, theta=1e-5):\n",
    "    policy = np.zeros(env.num_states, dtype=int)\n",
    "    while True:\n",
    "        old_policy = policy.copy()\n",
    "        V = policy_evaluation(policy, env, gamma, theta)\n",
    "        policy = policy_improvement(V, env, gamma)\n",
    "        if np.array_equal(policy, old_policy):\n",
    "            break\n",
    "    return policy, V\n",
    "\n",
    "# Create an adjusted environment instance\n",
    "env = AdjustedMDPEnvironment(12, 2)\n",
    "\n",
    "# Perform Policy Iteration\n",
    "optimal_policy, optimal_value_function = policy_iteration(env)\n",
    "\n",
    "print(\"Optimal Policy:\", optimal_policy)\n",
    "print(\"Optimal Value Function:\", optimal_value_function)\n"
   ]
  },
  {
   "cell_type": "code",
   "execution_count": 2,
   "metadata": {},
   "outputs": [
    {
     "name": "stdout",
     "output_type": "stream",
     "text": [
      "Model parameters saved to model_params.pkl\n"
     ]
    }
   ],
   "source": [
    "import pickle\n",
    "\n",
    "# Function to save the model parameters\n",
    "def save_model_parameters(policy, value_function, file_name='model_params.pkl'):\n",
    "    with open(file_name, 'wb') as f:\n",
    "        pickle.dump({'policy': policy, 'value_function': value_function}, f)\n",
    "    print(f\"Model parameters saved to {file_name}\")\n",
    "\n",
    "# After obtaining the optimal policy and value function\n",
    "save_model_parameters(optimal_policy, optimal_value_function)\n"
   ]
  },
  {
   "cell_type": "code",
   "execution_count": 3,
   "metadata": {},
   "outputs": [
    {
     "name": "stdout",
     "output_type": "stream",
     "text": [
      "Loaded Policy: [2 0 2 2 1 1 2 2 1 1 1 2]\n",
      "Loaded Value Function: [6.12010594 6.05629564 5.9841324  5.96426021 6.02267353 5.96504004\n",
      " 6.07872222 6.10301176 6.01719121 6.01365836 6.1000341  6.09944546]\n"
     ]
    }
   ],
   "source": [
    "# Function to load the model parameters\n",
    "def load_model_parameters(file_name='model_params.pkl'):\n",
    "    with open(file_name, 'rb') as f:\n",
    "        data = pickle.load(f)\n",
    "    return data['policy'], data['value_function']\n",
    "\n",
    "# Loading the model parameters from the file\n",
    "loaded_policy, loaded_value_function = load_model_parameters()\n",
    "print(\"Loaded Policy:\", loaded_policy)\n",
    "print(\"Loaded Value Function:\", loaded_value_function)\n"
   ]
  },
  {
   "cell_type": "code",
   "execution_count": 5,
   "metadata": {},
   "outputs": [
    {
     "name": "stdout",
     "output_type": "stream",
     "text": [
      "Model parameters saved to model_params.pkl\n"
     ]
    }
   ],
   "source": [
    "# Assuming the AdjustedMDPEnvironment and policy_iteration functions are defined as above\n",
    "\n",
    "# Create an adjusted environment instance\n",
    "env = AdjustedMDPEnvironment(24, 3)\n",
    "\n",
    "# Perform Policy Iteration\n",
    "optimal_policy, optimal_value_function = policy_iteration(env)\n",
    "\n",
    "# Save the optimal policy and value function to a file\n",
    "save_model_parameters(optimal_policy, optimal_value_function)\n",
    "\n",
    "# Later, you can load the model parameters as needed\n",
    "loaded_policy, loaded_value_function = load_model_parameters()\n"
   ]
  },
  {
   "cell_type": "code",
   "execution_count": 6,
   "metadata": {},
   "outputs": [
    {
     "data": {
      "text/plain": [
       "array([2, 2, 2, 0, 2, 2, 1, 1, 0, 2, 1, 1, 2, 2, 2, 2, 2, 2, 1, 1, 2, 2,\n",
       "       0, 0])"
      ]
     },
     "execution_count": 6,
     "metadata": {},
     "output_type": "execute_result"
    }
   ],
   "source": [
    "loaded_policy"
   ]
  },
  {
   "cell_type": "code",
   "execution_count": null,
   "metadata": {},
   "outputs": [],
   "source": []
  }
 ],
 "metadata": {
  "kernelspec": {
   "display_name": "Python 3",
   "language": "python",
   "name": "python3"
  },
  "language_info": {
   "codemirror_mode": {
    "name": "ipython",
    "version": 3
   },
   "file_extension": ".py",
   "mimetype": "text/x-python",
   "name": "python",
   "nbconvert_exporter": "python",
   "pygments_lexer": "ipython3",
   "version": "3.10.12"
  }
 },
 "nbformat": 4,
 "nbformat_minor": 2
}
